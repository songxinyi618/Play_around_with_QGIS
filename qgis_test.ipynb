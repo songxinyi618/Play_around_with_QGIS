{
 "cells": [
  {
   "cell_type": "markdown",
   "metadata": {},
   "source": [
    "# 初始化QGIS"
   ]
  },
  {
   "cell_type": "code",
   "execution_count": 1,
   "metadata": {},
   "outputs": [],
   "source": [
    "from qgis.core import *\n",
    "\n",
    "# 提供qgis安装位置的路径\n",
    "# QGIS安装路径因平台而异，在系统中找到它的最简单方法是在QGIS中使用Python控制台运行 QgsApplication.prefixPath()并查看输出\n",
    "QgsApplication.setPrefixPath('/opt/anaconda3/envs/qgis3/QGIS.app/Contents/MacOS', True)\n",
    "\n",
    "# 创建对QgsApplication的引用，第二个参数设置为False将禁用GUI\n",
    "qgs = QgsApplication([], False)\n",
    "\n",
    "# 加载数据提供者和图层注册\n",
    "qgs.initQgis()\n",
    "\n",
    "# 在这里编写代码，加载一些图层，使用处理算法等\n"
   ]
  },
  {
   "cell_type": "code",
   "execution_count": 2,
   "metadata": {},
   "outputs": [],
   "source": [
    "# 脚本完成后，调用exitQgis（）从内存中删除提供者和图层注册\n",
    "# qgs.exitQgis()"
   ]
  },
  {
   "cell_type": "markdown",
   "metadata": {},
   "source": [
    "# 加载项目 "
   ]
  },
  {
   "cell_type": "code",
   "execution_count": 3,
   "metadata": {
    "scrolled": true
   },
   "outputs": [
    {
     "name": "stdout",
     "output_type": "stream",
     "text": [
      "/Users/xin-yi.song/Desktop/苏州公安-公共自行车/P5：站点选址支持（盲区识别）/路网.qgz\n",
      "图层数量:1\n"
     ]
    }
   ],
   "source": [
    "# 如果你不在QGIS控制台内运行，首先需要导入qgis和PyQt类，如下所示：\n",
    "from qgis.core import QgsProject\n",
    "\n",
    "# 获取项目实例\n",
    "project = QgsProject.instance()\n",
    "\n",
    "# 加载一个项目\n",
    "project.read('/Users/xin-yi.song/Desktop/苏州公安-公共自行车/P5：站点选址支持（盲区识别）/路网.qgz')\n",
    "print(project.fileName())\n",
    "\n",
    "#显示这个项目有多少个图层\n",
    "print(\"图层数量:\" + str(project.count())) "
   ]
  },
  {
   "cell_type": "code",
   "execution_count": 4,
   "metadata": {},
   "outputs": [
    {
     "data": {
      "text/plain": [
       "True"
      ]
     },
     "execution_count": 4,
     "metadata": {},
     "output_type": "execute_result"
    }
   ],
   "source": [
    "# 将项目保存到新文件\n",
    "project.write('/Users/xin-yi.song/Desktop/苏州公安-公共自行车/P5：站点选址支持（盲区识别）/test.qgz')"
   ]
  },
  {
   "cell_type": "markdown",
   "metadata": {},
   "source": [
    "# 加载图层"
   ]
  },
  {
   "cell_type": "markdown",
   "metadata": {},
   "source": [
    "## 矢量图层"
   ]
  },
  {
   "cell_type": "code",
   "execution_count": 5,
   "metadata": {},
   "outputs": [],
   "source": [
    "# 加载图层之前需要导入以下模块\n",
    "from qgis.core import (QgsVectorLayer)"
   ]
  },
  {
   "cell_type": "code",
   "execution_count": 6,
   "metadata": {},
   "outputs": [],
   "source": [
    "#要查询安装的QGIS支持哪些格式文件，可以在QGIS中使用下面的代码\n",
    "# import osgeo\n",
    "# drivers = [osgeo.ogr.GetDriver(n).GetName() for n in\n",
    "#           range(osgeo.ogr.GetDriverCount())]\n",
    "# print(drivers)"
   ]
  },
  {
   "cell_type": "code",
   "execution_count": 7,
   "metadata": {},
   "outputs": [
    {
     "data": {
      "text/plain": [
       "<qgis._core.QgsVectorLayer at 0x11a256cd0>"
      ]
     },
     "execution_count": 7,
     "metadata": {},
     "output_type": "execute_result"
    }
   ],
   "source": [
    "#创建一个矢量图层实例，指定图层的数据源标识符、图层名称和提供者名称\n",
    "#获取shapefile的路径\n",
    "vpath = '/Users/xin-yi.song/Desktop/苏州公安-公共自行车/P5：站点选址支持（盲区识别）/区域/区域.shp'\n",
    "\n",
    "#构造QgsVectorLayer实例,格式为vlayer = QgsVectorLayer(data_source, layer_name, provider_name)\n",
    "vlayer = QgsVectorLayer(vpath, '区域', 'ogr')\n",
    "\n",
    "#使用addMapLayer()方法将图层添加到当前项目\n",
    "QgsProject.instance().addMapLayer(vlayer)"
   ]
  },
  {
   "cell_type": "code",
   "execution_count": 8,
   "metadata": {},
   "outputs": [
    {
     "data": {
      "text/plain": [
       "<qgis._core.QgsVectorLayer at 0x11a256730>"
      ]
     },
     "execution_count": 8,
     "metadata": {},
     "output_type": "execute_result"
    }
   ],
   "source": [
    "#获取geojson的路径\n",
    "gpath = '/Users/xin-yi.song/Desktop/苏州公安-公共自行车/P5：站点选址支持（盲区识别）/自行车站点84/自行车站点_utf8.geojson'\n",
    "\n",
    "#构造QgsVectorLayer实例,格式为vlayer = QgsVectorLayer(data_source, layer_name, provider_name)\n",
    "glayer = QgsVectorLayer(gpath, '自行车站点_utf8', 'ogr')\n",
    "\n",
    "#使用addMapLayer()方法将图层添加到当前项目\n",
    "QgsProject.instance().addMapLayer(glayer)"
   ]
  },
  {
   "cell_type": "code",
   "execution_count": 9,
   "metadata": {},
   "outputs": [
    {
     "data": {
      "text/plain": [
       "<qgis._core.QgsVectorLayer at 0x11a256410>"
      ]
     },
     "execution_count": 9,
     "metadata": {},
     "output_type": "execute_result"
    }
   ],
   "source": [
    "#获取geojson的路径\n",
    "lpath = '/Users/xin-yi.song/Desktop/苏州公安-公共自行车/P5：站点选址支持（盲区识别）/路网_utf8.geojson'\n",
    "\n",
    "#构造QgsVectorLayer实例,格式为vlayer = QgsVectorLayer(data_source, layer_name, provider_name)\n",
    "llayer = QgsVectorLayer(lpath, '路网_utf8', 'ogr')\n",
    "\n",
    "#使用addMapLayer()方法将图层添加到当前项目\n",
    "QgsProject.instance().addMapLayer(llayer)"
   ]
  },
  {
   "cell_type": "code",
   "execution_count": 10,
   "metadata": {},
   "outputs": [],
   "source": [
    "#删除图层\n",
    "#QgsProject.instance().removeMapLayer(llayer)"
   ]
  },
  {
   "cell_type": "code",
   "execution_count": 11,
   "metadata": {},
   "outputs": [
    {
     "data": {
      "text/plain": [
       "True"
      ]
     },
     "execution_count": 11,
     "metadata": {},
     "output_type": "execute_result"
    }
   ],
   "source": [
    "#保存到新文件\n",
    "QgsProject.instance().write('/Users/xin-yi.song/Desktop/苏州公安-公共自行车/P5：站点选址支持（盲区识别）/test.qgz')"
   ]
  },
  {
   "cell_type": "markdown",
   "metadata": {},
   "source": [
    "## 栅格图层"
   ]
  },
  {
   "cell_type": "code",
   "execution_count": 12,
   "metadata": {},
   "outputs": [
    {
     "data": {
      "text/plain": [
       "<qgis._core.QgsRasterLayer at 0x11a2567d0>"
      ]
     },
     "execution_count": 12,
     "metadata": {},
     "output_type": "execute_result"
    }
   ],
   "source": [
    "# 获取tif文件的路径\n",
    "rpath = '/Users/xin-yi.song/Desktop/荆门合旅/大众点评/大众点评_荆门_密度_3857_new.tif'\n",
    "\n",
    "#构造QgsVectorLayer实例,格式为rlayer = QgsRasterLayer(rasterFilePath, \"chb_gaofen\", \"gdal\")\n",
    "rlayer = QgsRasterLayer(rpath, '大众点评_荆门_密度_3857_new', 'gdal')\n",
    "\n",
    "#使用addMapLayer()方法将图层添加到当前项目\n",
    "QgsProject.instance().addMapLayer(rlayer)\n"
   ]
  },
  {
   "cell_type": "code",
   "execution_count": 13,
   "metadata": {},
   "outputs": [
    {
     "data": {
      "text/plain": [
       "{'idt_ly_linkinfo_079cf9f3_4fab_4756_8bdd_16eb340b9453': <qgis._core.QgsVectorLayer at 0x11a2569b0>,\n",
       " '区域_b5f01447_a534_4683_8ecf_b095cc30bdbd': <qgis._core.QgsVectorLayer at 0x11a256cd0>,\n",
       " '大众点评_荆门_密度_3857_new_3fbf0e1e_7169_4044_82e1_95a1f00f7ab0': <qgis._core.QgsRasterLayer at 0x11a2567d0>,\n",
       " '自行车站点_utf8_b3ec0333_4b54_4573_b63c_5b7dbd980ca1': <qgis._core.QgsVectorLayer at 0x11a256730>,\n",
       " '路网_utf8_b778c559_43b3_4bab_b33c_1e63939d59f4': <qgis._core.QgsVectorLayer at 0x11a256410>}"
      ]
     },
     "execution_count": 13,
     "metadata": {},
     "output_type": "execute_result"
    }
   ],
   "source": [
    "#获取已加载图层和图层ID的列表，使用mapLayers()方法\n",
    "QgsProject.instance().mapLayers()"
   ]
  },
  {
   "cell_type": "code",
   "execution_count": 14,
   "metadata": {},
   "outputs": [
    {
     "data": {
      "text/plain": [
       "True"
      ]
     },
     "execution_count": 14,
     "metadata": {},
     "output_type": "execute_result"
    }
   ],
   "source": [
    "#保存到新文件\n",
    "QgsProject.instance().write('/Users/xin-yi.song/Desktop/苏州公安-公共自行车/P5：站点选址支持（盲区识别）/test.qgz')"
   ]
  },
  {
   "cell_type": "markdown",
   "metadata": {},
   "source": [
    "# 操作矢量图层 "
   ]
  },
  {
   "cell_type": "markdown",
   "metadata": {},
   "source": [
    "## 检索相关属性信息"
   ]
  },
  {
   "cell_type": "code",
   "execution_count": 15,
   "metadata": {
    "scrolled": true
   },
   "outputs": [
    {
     "name": "stdout",
     "output_type": "stream",
     "text": [
      "link_id Integer\n",
      "segment_id String\n",
      "road_id String\n",
      "roadname String\n",
      "fnode String\n",
      "tnode String\n",
      "length String\n",
      "road_class String\n",
      "p_lanes String\n",
      "n_lanes String\n",
      "max_speed String\n",
      "direction String\n",
      "ad_code String\n",
      "toll_flag String\n",
      "status String\n",
      "link_type String\n",
      "fc String\n",
      "u_line String\n",
      "over_head String\n",
      "ramp String\n",
      "mesh String\n",
      "forwardroa String\n",
      "reverseroa String\n",
      "link_flag Integer\n",
      "err_flag Integer\n",
      "gd_id String\n",
      "ge_id String\n",
      "gj_id String\n",
      "gm_id String\n",
      "gjjdd_id String\n",
      "gjjzd_id String\n",
      "gjj_id String\n",
      "zone_id String\n"
     ]
    }
   ],
   "source": [
    "# “layer”是一个QgsVectorLayer实例\n",
    "layer = llayer\n",
    "\n",
    "#可以通过调用QgsVectorLayer对象的fields()方法检索一个矢量图层相关字段的信息\n",
    "for field in layer.fields():\n",
    "    print(field.name(), field.typeName())"
   ]
  },
  {
   "cell_type": "markdown",
   "metadata": {},
   "source": [
    "## 遍历矢量图层 "
   ]
  },
  {
   "cell_type": "code",
   "execution_count": 16,
   "metadata": {},
   "outputs": [],
   "source": [
    "features = layer.getFeatures()\n",
    "\n",
    "# # 检索每一个要素的属性\n",
    "# for feature in features:\n",
    "#     # attrs是一个列表。它包含要素的所有属性值\n",
    "#     attrs = feature.attributes()\n",
    "#     print(attrs)"
   ]
  },
  {
   "cell_type": "markdown",
   "metadata": {},
   "source": [
    "## 选择要素 "
   ]
  },
  {
   "cell_type": "code",
   "execution_count": 17,
   "metadata": {},
   "outputs": [],
   "source": [
    "#选择所有要素，可以使用selectAll()方法\n",
    "layer.selectAll()"
   ]
  },
  {
   "cell_type": "code",
   "execution_count": 18,
   "metadata": {},
   "outputs": [
    {
     "name": "stdout",
     "output_type": "stream",
     "text": [
      "94138\n"
     ]
    }
   ],
   "source": [
    "#如果只需要已选择的要素，则可以使用矢量图层中的方法selectedFeatures()：\n",
    "selection = layer.selectedFeatures()\n",
    "print(len(selection))"
   ]
  },
  {
   "cell_type": "code",
   "execution_count": 19,
   "metadata": {},
   "outputs": [],
   "source": [
    "#使用表达式进行选择，使用selectByExpression()方法\n",
    "layer.selectByExpression('\"ad_code\"=\\'320583\\' and \"link_flag\" = 21', QgsVectorLayer.SetSelection)"
   ]
  },
  {
   "cell_type": "code",
   "execution_count": 20,
   "metadata": {
    "scrolled": true
   },
   "outputs": [
    {
     "name": "stdout",
     "output_type": "stream",
     "text": [
      "6370\n"
     ]
    }
   ],
   "source": [
    "#如果只需要已选择的要素，则可以使用矢量图层中的方法selectedFeatures()：\n",
    "selection = layer.selectedFeatures()\n",
    "print(len(selection))"
   ]
  },
  {
   "cell_type": "code",
   "execution_count": 21,
   "metadata": {},
   "outputs": [
    {
     "name": "stdout",
     "output_type": "stream",
     "text": [
      "[4909795, NULL, '600844', '圣祥西路', '143', '2258', NULL, '51000', '2', '0', '70', '2', '320583', '2', '0', '0', '3', '1', '0', '0', 'H51F009008', '5905073466377841420', NULL, 21, NULL, NULL, NULL, NULL, NULL, NULL, NULL, NULL, NULL]\n"
     ]
    }
   ],
   "source": [
    "#如果要迭代图层中特定的要素子集，则必须添加QgsFeatureRequest对象到getFeatures()方法\n",
    "request = QgsFeatureRequest()\n",
    "\n",
    "# 仅获取ID为45的要素\n",
    "request.setFilterFid(45)\n",
    "\n",
    "#使用该功能执行任何操作\n",
    "for feature in layer.getFeatures(request):\n",
    "    attrs = feature.attributes()\n",
    "    print(attrs)   "
   ]
  },
  {
   "cell_type": "markdown",
   "metadata": {},
   "source": [
    "## 添加和删除字段"
   ]
  },
  {
   "cell_type": "code",
   "execution_count": 22,
   "metadata": {},
   "outputs": [
    {
     "name": "stdout",
     "output_type": "stream",
     "text": [
      "The layer supports DeleteFeatures\n"
     ]
    }
   ],
   "source": [
    "#大多数矢量数据提供者都支持编辑图层数据。有时它们仅支持编辑子集。使用capabilities()功能可以找出支持的功能集\n",
    "caps = layer.dataProvider().capabilities()\n",
    "\n",
    "# 检查是否支持特定功能：\n",
    "if caps & QgsVectorDataProvider.DeleteFeatures:\n",
    "    print('The layer supports DeleteFeatures')"
   ]
  },
  {
   "cell_type": "code",
   "execution_count": 23,
   "metadata": {},
   "outputs": [],
   "source": [
    "#添加字段（属性），你需要指定字段定义列表\n",
    "from qgis.PyQt.QtCore import QVariant\n",
    "\n",
    "if caps & QgsVectorDataProvider.AddAttributes:\n",
    "    res = layer.dataProvider().addAttributes(\n",
    "        [QgsField(\"mytext\", QVariant.String),\n",
    "        QgsField(\"myint\", QVariant.Int)])\n",
    "    \n",
    "#要删除字段，只需提供字段索引列表\n",
    "if caps & QgsVectorDataProvider.DeleteAttributes:\n",
    "    res = layer.dataProvider().deleteAttributes([33,34])"
   ]
  },
  {
   "cell_type": "code",
   "execution_count": 24,
   "metadata": {},
   "outputs": [],
   "source": [
    "#在数据提供程者中添加或删除字段后，需要更新图层的字段，因为更改不会自动传播\n",
    "layer.updateFields()\n",
    "\n",
    "# #检查图层的字段信息\n",
    "# for field in layer.fields():\n",
    "#     print(field.name(), field.typeName())"
   ]
  },
  {
   "cell_type": "markdown",
   "metadata": {},
   "source": [
    "## 空间索引"
   ]
  },
  {
   "cell_type": "code",
   "execution_count": 25,
   "metadata": {},
   "outputs": [],
   "source": [
    "#使用QgsSpatialIndex()类创建空间索引\n",
    "index = QgsSpatialIndex()\n",
    "\n",
    "#批量加载图层的所有要素\n",
    "index = QgsSpatialIndex(layer.getFeatures())"
   ]
  },
  {
   "cell_type": "code",
   "execution_count": 26,
   "metadata": {},
   "outputs": [
    {
     "name": "stdout",
     "output_type": "stream",
     "text": [
      "[71902, 11691, 46700, 46695, 11689]\n"
     ]
    }
   ],
   "source": [
    "# 以数组形式返回五个最近要素的ID\n",
    "nearest = index.nearestNeighbor(QgsPointXY(120.5, 31.0), 5)\n",
    "print(nearest)"
   ]
  },
  {
   "cell_type": "code",
   "execution_count": 27,
   "metadata": {},
   "outputs": [
    {
     "name": "stdout",
     "output_type": "stream",
     "text": [
      "67497\n"
     ]
    }
   ],
   "source": [
    "# 以数组形式返回与矩形相交的要素\n",
    "intersect = index.intersects(QgsRectangle(120.5, 31.0, 121.0, 32.0))\n",
    "print(len(intersect))"
   ]
  },
  {
   "cell_type": "markdown",
   "metadata": {},
   "source": [
    "## 创建矢量图层"
   ]
  },
  {
   "cell_type": "code",
   "execution_count": 28,
   "metadata": {},
   "outputs": [
    {
     "data": {
      "text/plain": [
       "True"
      ]
     },
     "execution_count": 28,
     "metadata": {},
     "output_type": "execute_result"
    }
   ],
   "source": [
    "from qgis.PyQt.QtCore import QVariant\n",
    "\n",
    "# 为要素属性定义字段。需要QgsFields对象\n",
    "fields = QgsFields()\n",
    "fields.append(QgsField(\"name\", QVariant.String))\n",
    "fields.append(QgsField(\"age\", QVariant.Int))\n",
    "fields.append(QgsField(\"size\", QVariant.Double))"
   ]
  },
  {
   "cell_type": "code",
   "execution_count": 29,
   "metadata": {},
   "outputs": [],
   "source": [
    "# 创建一个矢量文件编写器的实例，它将创建矢量文件\n",
    "# 参数：\n",
    "# 1. 新文件的路径（如果已存在则失败）\n",
    "# 2. 属性编码\n",
    "# 3. 字段映射\n",
    "# 4. 几何类型 - WKBTYPE枚举\n",
    "# 5. 图层的空间参考（QgsCoordinateReferenceSystem的实例） - 可选\n",
    "# 6. 输出文件的驱动程序名称\n",
    "\n",
    "new_path = '/Users/xin-yi.song/Desktop/苏州公安-公共自行车/P5：站点选址支持（盲区识别）/Johny/Johny.shp'\n",
    "writer = QgsVectorFileWriter(new_path, \"UTF-8\", fields, QgsWkbTypes.Point, driverName=\"ESRI Shapefile\")\n",
    "\n",
    "if writer.hasError() != QgsVectorFileWriter.NoError:\n",
    "    print(\"Error when creating shapefile: \",  w.errorMessage())\n",
    "\n",
    "# 添加一个要素\n",
    "fet = QgsFeature()\n",
    "fet.setGeometry(QgsGeometry.fromPointXY(QgsPointXY(120,31)))\n",
    "fet.setAttributes([\"Johny\", 2, 0.3])\n",
    "writer.addFeature(fet)\n",
    "\n",
    "# 删除writer以将要素保存到磁盘\n",
    "del writer"
   ]
  },
  {
   "cell_type": "code",
   "execution_count": 30,
   "metadata": {},
   "outputs": [
    {
     "name": "stdout",
     "output_type": "stream",
     "text": [
      "fields: 3\n",
      "features: 1\n",
      "extent: 120.0 31.0 120.0 31.0\n",
      "F: 0 ['Johny', 2, 0.3] <QgsPointXY: POINT(120 31)>\n"
     ]
    }
   ],
   "source": [
    "# 显示一些统计\n",
    "vl = QgsVectorLayer(new_path, 'Johny', 'ogr')\n",
    "pr = vl.dataProvider()\n",
    "\n",
    "print(\"fields:\", len(pr.fields()))\n",
    "print(\"features:\", pr.featureCount())\n",
    "e = vl.extent()\n",
    "print(\"extent:\", e.xMinimum(), e.yMinimum(), e.xMaximum(), e.yMaximum())\n",
    "\n",
    "# 遍历要素\n",
    "features = vl.getFeatures()\n",
    "for fet in features:\n",
    "    print(\"F:\", fet.id(), fet.attributes(), fet.geometry().asPoint())"
   ]
  },
  {
   "cell_type": "markdown",
   "metadata": {},
   "source": [
    "## 矢量图层的外观（符号系统） "
   ]
  },
  {
   "cell_type": "code",
   "execution_count": 31,
   "metadata": {},
   "outputs": [
    {
     "name": "stdout",
     "output_type": "stream",
     "text": [
      "Type: singleSymbol\n"
     ]
    }
   ],
   "source": [
    "#获得给定图层的渲染器\n",
    "renderer = layer.renderer()\n",
    "print(\"Type:\", renderer.type())\n",
    "\n",
    "# singleSymbol->使用相同的符号呈现所有要素\n",
    "# categorizedSymbol->使用每个类别的不同符号呈现要素\n",
    "# graduatedSymbol->为每个值范围使用不同的符号呈现要素"
   ]
  },
  {
   "cell_type": "code",
   "execution_count": 32,
   "metadata": {},
   "outputs": [
    {
     "name": "stdout",
     "output_type": "stream",
     "text": [
      "{'capstyle': 'square', 'customdash': '5;2', 'customdash_map_unit_scale': '3x:0,0,0,0,0,0', 'customdash_unit': 'MM', 'draw_inside_polygon': '0', 'joinstyle': 'bevel', 'line_color': '145,82,45,255', 'line_style': 'solid', 'line_width': '0.26', 'line_width_unit': 'MM', 'offset': '0', 'offset_map_unit_scale': '3x:0,0,0,0,0,0', 'offset_unit': 'MM', 'ring_filter': '0', 'use_custom_dash': '0', 'width_map_unit_scale': '3x:0,0,0,0,0,0'}\n"
     ]
    }
   ],
   "source": [
    "#获取符号实例的第一个符号图层的完整属性列表\n",
    "print(layer.renderer().symbol().symbolLayers()[0].properties())"
   ]
  },
  {
   "cell_type": "code",
   "execution_count": 33,
   "metadata": {},
   "outputs": [],
   "source": [
    "#更改属性，点，线和多边形图层的符号相应的类（QgsMarkerSymbol，QgsLineSymbol和 QgsFillSymbol）\n",
    "props = layer.renderer().symbol().symbolLayer(0).properties()\n",
    "props['line_color'] = 'yellow'\n",
    "props['width'] = '1'\n",
    "layer.renderer().setSymbol(QgsLineSymbol.createSimple(props))\n",
    "\n",
    "# 显示更改\n",
    "layer.triggerRepaint()"
   ]
  },
  {
   "cell_type": "code",
   "execution_count": 34,
   "metadata": {},
   "outputs": [
    {
     "data": {
      "text/plain": [
       "True"
      ]
     },
     "execution_count": 34,
     "metadata": {},
     "output_type": "execute_result"
    }
   ],
   "source": [
    "#保存到新文件\n",
    "QgsProject.instance().write('/Users/xin-yi.song/Desktop/苏州公安-公共自行车/P5：站点选址支持（盲区识别）/test.qgz')"
   ]
  },
  {
   "cell_type": "markdown",
   "metadata": {},
   "source": [
    "# 几何处理 "
   ]
  },
  {
   "cell_type": "code",
   "execution_count": 35,
   "metadata": {},
   "outputs": [],
   "source": [
    "#导入模块\n",
    "from qgis.core import (\n",
    "  QgsGeometry,\n",
    "  QgsPoint,\n",
    "  QgsPointXY,\n",
    "  QgsWkbTypes,\n",
    "  QgsProject,\n",
    "  QgsFeatureRequest,\n",
    "  QgsDistanceArea\n",
    ")"
   ]
  },
  {
   "cell_type": "code",
   "execution_count": 36,
   "metadata": {},
   "outputs": [],
   "source": [
    "#通过坐标创建几何\n",
    "gPnt = QgsGeometry.fromPointXY(QgsPointXY(1,1))\n",
    "gLine = QgsGeometry.fromPolyline([QgsPoint(1, 1), QgsPoint(2, 2)])\n",
    "gPolygon = QgsGeometry.fromPolygonXY([[QgsPointXY(1, 1),QgsPointXY(2, 2), QgsPointXY(2, 1)]])"
   ]
  },
  {
   "cell_type": "code",
   "execution_count": 37,
   "metadata": {},
   "outputs": [],
   "source": [
    "#使用强大的QgsDistanceArea 类计算面积和周长，它可以执行基于椭球的计算\n",
    "d = QgsDistanceArea()\n",
    "d.setEllipsoid('WGS84')\n",
    "\n",
    "#假定layer是QgsVectorLayer具有多边形要素类型的对象\n",
    "layer = QgsProject.instance().mapLayersByName('区域')[0]\n",
    "\n",
    "# 过滤以Z开头的国家，然后获取其要素\n",
    "query = '\"name\" < \\'f\\''\n",
    "features = layer.getFeatures(QgsFeatureRequest().setFilterExpression(query))"
   ]
  },
  {
   "cell_type": "code",
   "execution_count": 38,
   "metadata": {
    "scrolled": true
   },
   "outputs": [
    {
     "name": "stdout",
     "output_type": "stream",
     "text": [
      "a\n",
      "Perimeter (m): 2014.3950302846547\n",
      "Area (m2): 262953.37490525964\n",
      "Area (km2): 0.2629533749052596\n",
      "b\n",
      "Perimeter (m): 8194.244892548473\n",
      "Area (m2): 2151668.5562896957\n",
      "Area (km2): 2.1516685562896956\n",
      "c\n",
      "Perimeter (m): 3023.727361704142\n",
      "Area (m2): 569538.9939313385\n",
      "Area (km2): 0.5695389939313386\n",
      "d\n",
      "Perimeter (m): 6226.1913469081865\n",
      "Area (m2): 1483959.042679125\n",
      "Area (km2): 1.483959042679125\n",
      "e\n",
      "Perimeter (m): 6972.228939805635\n",
      "Area (m2): 2666852.4186424753\n",
      "Area (km2): 2.6668524186424754\n"
     ]
    }
   ],
   "source": [
    "# 现在遍历要素，执行几何计算并打印结果\n",
    "for f in features:\n",
    "  geom = f.geometry()\n",
    "  name = f.attribute('name')\n",
    "  print(name)\n",
    "  print(\"Perimeter (m):\", d.measurePerimeter(geom))\n",
    "  print(\"Area (m2):\", d.measureArea(geom)) \n",
    "\n",
    "  # 计算并重新打印面积，单位为平方公里\n",
    "  print(\"Area (km2):\", d.convertAreaMeasurement(d.measureArea(geom), QgsUnitTypes.AreaSquareKilometers))"
   ]
  },
  {
   "cell_type": "code",
   "execution_count": 39,
   "metadata": {},
   "outputs": [
    {
     "name": "stdout",
     "output_type": "stream",
     "text": [
      "Distance in meters:  5154172.923937497\n"
     ]
    }
   ],
   "source": [
    "#计算两点之间的距离和方位\n",
    "d = QgsDistanceArea()\n",
    "d.setEllipsoid('WGS84')\n",
    "\n",
    "# 让我们创造两点。\n",
    "# 圣诞老人是一个工作狂，需要一个暑假，\n",
    "# 让我们看看Tenerife离他家有多远\n",
    "santa = QgsPointXY(25.847899, 66.543456)\n",
    "tenerife = QgsPointXY(-16.5735, 28.0443)\n",
    "\n",
    "print(\"Distance in meters: \", d.measureLine(santa, tenerife))"
   ]
  },
  {
   "cell_type": "markdown",
   "metadata": {},
   "source": [
    "# 坐标参考系统 "
   ]
  },
  {
   "cell_type": "code",
   "execution_count": 40,
   "metadata": {},
   "outputs": [],
   "source": [
    "#导入模块\n",
    "from qgis.core import (QgsCoordinateReferenceSystem,\n",
    "                       QgsCoordinateTransform,\n",
    "                       QgsProject,\n",
    "                       QgsPointXY,\n",
    "                       )"
   ]
  },
  {
   "cell_type": "code",
   "execution_count": 41,
   "metadata": {},
   "outputs": [],
   "source": [
    "#在当前项目中构造QgsCoordinateTransform实例\n",
    "crsSrc = QgsCoordinateReferenceSystem(4326)    # WGS 84\n",
    "crsDest = QgsCoordinateReferenceSystem(32633)  # WGS 84 / UTM zone 33N\n",
    "xform = QgsCoordinateTransform(crsSrc, crsDest, QgsProject.instance())"
   ]
  },
  {
   "cell_type": "code",
   "execution_count": 42,
   "metadata": {},
   "outputs": [
    {
     "name": "stdout",
     "output_type": "stream",
     "text": [
      "Transformed point: <QgsPointXY: POINT(832713.79873844375833869 553423.98688333143945783)>\n",
      "Transformed back: <QgsPointXY: POINT(18 4.99999999999999911)>\n"
     ]
    }
   ],
   "source": [
    "# 正向转换: src -> dest\n",
    "pt1 = xform.transform(QgsPointXY(18,5))\n",
    "print(\"Transformed point:\", pt1)\n",
    "\n",
    "# 逆向转换: dest -> src\n",
    "pt2 = xform.transform(pt1, QgsCoordinateTransform.ReverseTransform)\n",
    "print(\"Transformed back:\", pt2)"
   ]
  },
  {
   "cell_type": "markdown",
   "metadata": {},
   "source": [
    "# 表达式，过滤和计算值 "
   ]
  },
  {
   "cell_type": "code",
   "execution_count": 43,
   "metadata": {},
   "outputs": [],
   "source": [
    "#导入模块\n",
    "from qgis.core import (\n",
    "   QgsExpression,\n",
    "   QgsExpressionContext,\n",
    "   QgsFeature,\n",
    "   QgsFeatureRequest,\n",
    "   QgsField,\n",
    "   QgsFields,\n",
    "   QgsVectorLayer\n",
    ")"
   ]
  },
  {
   "cell_type": "code",
   "execution_count": 44,
   "metadata": {},
   "outputs": [],
   "source": [
    "#详见https://luolingchun.github.io/PyQGIS-Developer-Cookbook-cn/ \n",
    "#第十章"
   ]
  },
  {
   "cell_type": "code",
   "execution_count": 45,
   "metadata": {},
   "outputs": [],
   "source": [
    "# 脚本完成后，调用exitQgis（）从内存中删除提供者和图层注册\n",
    "qgs.exitQgis()"
   ]
  }
 ],
 "metadata": {
  "kernelspec": {
   "display_name": "Python 3",
   "language": "python",
   "name": "python3"
  },
  "language_info": {
   "codemirror_mode": {
    "name": "ipython",
    "version": 3
   },
   "file_extension": ".py",
   "mimetype": "text/x-python",
   "name": "python",
   "nbconvert_exporter": "python",
   "pygments_lexer": "ipython3",
   "version": "3.7.6"
  },
  "toc": {
   "base_numbering": 1,
   "nav_menu": {
    "height": "267px",
    "width": "628px"
   },
   "number_sections": true,
   "sideBar": true,
   "skip_h1_title": false,
   "title_cell": "Table of Contents",
   "title_sidebar": "Contents",
   "toc_cell": false,
   "toc_position": {},
   "toc_section_display": true,
   "toc_window_display": false
  },
  "varInspector": {
   "cols": {
    "lenName": 16,
    "lenType": 16,
    "lenVar": 40
   },
   "kernels_config": {
    "python": {
     "delete_cmd_postfix": "",
     "delete_cmd_prefix": "del ",
     "library": "var_list.py",
     "varRefreshCmd": "print(var_dic_list())"
    },
    "r": {
     "delete_cmd_postfix": ") ",
     "delete_cmd_prefix": "rm(",
     "library": "var_list.r",
     "varRefreshCmd": "cat(var_dic_list()) "
    }
   },
   "types_to_exclude": [
    "module",
    "function",
    "builtin_function_or_method",
    "instance",
    "_Feature"
   ],
   "window_display": false
  }
 },
 "nbformat": 4,
 "nbformat_minor": 4
}
