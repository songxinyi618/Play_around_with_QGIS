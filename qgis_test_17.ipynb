{
 "cells": [
  {
   "cell_type": "markdown",
   "metadata": {},
   "source": [
    "### 导入矢量图层 "
   ]
  },
  {
   "cell_type": "markdown",
   "metadata": {},
   "source": [
    "#### 导入要用到的包"
   ]
  },
  {
   "cell_type": "code",
   "execution_count": 1,
   "metadata": {},
   "outputs": [],
   "source": [
    "from qgis.core import * \n",
    "from qgis.core import QgsProject\n",
    "from qgis.core import (QgsVectorLayer)"
   ]
  },
  {
   "cell_type": "markdown",
   "metadata": {},
   "source": [
    "#### 初始化QGIS"
   ]
  },
  {
   "cell_type": "code",
   "execution_count": 2,
   "metadata": {},
   "outputs": [],
   "source": [
    "#提供qgis安装路径\n",
    "QgsApplication.setPrefixPath('/opt/anaconda3/envs/qgis3/QGIS.app/Contents/MacOS', True)\n",
    "\n",
    "# 创建对QgsApplication的引用，第二个参数设置为False将禁用GUI\n",
    "qgs = QgsApplication([], False)\n",
    "\n",
    "# 加载数据提供者和图层注册\n",
    "qgs.initQgis()"
   ]
  },
  {
   "cell_type": "markdown",
   "metadata": {},
   "source": [
    "#### 加载项目"
   ]
  },
  {
   "cell_type": "code",
   "execution_count": 3,
   "metadata": {},
   "outputs": [
    {
     "data": {
      "text/plain": [
       "True"
      ]
     },
     "execution_count": 3,
     "metadata": {},
     "output_type": "execute_result"
    }
   ],
   "source": [
    "# 获取项目实例\n",
    "project = QgsProject.instance()\n",
    "\n",
    "# 将项目保存到新文件\n",
    "project.write('/Users/xin-yi.song/Desktop/苏州公安-公共自行车/P5：站点选址支持（盲区识别）/qgis_test_17.qgz')"
   ]
  },
  {
   "cell_type": "markdown",
   "metadata": {},
   "source": [
    "#### 加载图层"
   ]
  },
  {
   "cell_type": "code",
   "execution_count": 4,
   "metadata": {},
   "outputs": [
    {
     "data": {
      "text/plain": [
       "<qgis._core.QgsVectorLayer at 0x1200f0a50>"
      ]
     },
     "execution_count": 4,
     "metadata": {},
     "output_type": "execute_result"
    }
   ],
   "source": [
    "#获取路网文件的路径\n",
    "lpath = '/Users/xin-yi.song/Desktop/苏州公安-公共自行车/P5：站点选址支持（盲区识别）/路网_utf8.geojson'\n",
    "\n",
    "#构造QgsVectorLayer实例,格式为vlayer = QgsVectorLayer(data_source, layer_name, provider_name)\n",
    "llayer = QgsVectorLayer(lpath, '路网_utf8', 'ogr')\n",
    "\n",
    "#使用addMapLayer()方法将图层添加到当前项目\n",
    "QgsProject.instance().addMapLayer(llayer)"
   ]
  },
  {
   "cell_type": "code",
   "execution_count": 5,
   "metadata": {},
   "outputs": [
    {
     "data": {
      "text/plain": [
       "<qgis._core.QgsVectorLayer at 0x1200f0730>"
      ]
     },
     "execution_count": 5,
     "metadata": {},
     "output_type": "execute_result"
    }
   ],
   "source": [
    "#获取自行车站点文件的路径\n",
    "zpath = '/Users/xin-yi.song/Desktop/苏州公安-公共自行车/data_from_mengyin/sta_info/sta_info_gcj.geojson'\n",
    "\n",
    "#构造QgsVectorLayer实例,格式为vlayer = QgsVectorLayer(data_source, layer_name, provider_name)\n",
    "zlayer = QgsVectorLayer(zpath, '自行车站点_gcj', 'ogr')\n",
    "\n",
    "#使用addMapLayer()方法将图层添加到当前项目\n",
    "QgsProject.instance().addMapLayer(zlayer)"
   ]
  },
  {
   "cell_type": "code",
   "execution_count": 6,
   "metadata": {},
   "outputs": [
    {
     "data": {
      "text/plain": [
       "{'自行车站点_gcj_e0c65c3a_c31a_470a_91f8_02f9da7cca6b': <qgis._core.QgsVectorLayer at 0x1200f0730>,\n",
       " '路网_utf8_e09948c6_6ea8_4df5_bc6e_ac301c904e26': <qgis._core.QgsVectorLayer at 0x1200f0a50>}"
      ]
     },
     "execution_count": 6,
     "metadata": {},
     "output_type": "execute_result"
    }
   ],
   "source": [
    "#获取已加载图层和图层ID的列表，使用mapLayers()方法\n",
    "QgsProject.instance().mapLayers()"
   ]
  },
  {
   "cell_type": "code",
   "execution_count": 7,
   "metadata": {},
   "outputs": [
    {
     "data": {
      "text/plain": [
       "True"
      ]
     },
     "execution_count": 7,
     "metadata": {},
     "output_type": "execute_result"
    }
   ],
   "source": [
    "# 将项目保存到新文件\n",
    "project.write('/Users/xin-yi.song/Desktop/苏州公安-公共自行车/P5：站点选址支持（盲区识别）/qgis_test_17.qgz')"
   ]
  },
  {
   "cell_type": "markdown",
   "metadata": {},
   "source": [
    "### 创建图"
   ]
  },
  {
   "cell_type": "markdown",
   "metadata": {},
   "source": [
    "#### 导入要用的包"
   ]
  },
  {
   "cell_type": "code",
   "execution_count": 8,
   "metadata": {
    "scrolled": true
   },
   "outputs": [],
   "source": [
    "from qgis.analysis import *"
   ]
  },
  {
   "cell_type": "markdown",
   "metadata": {},
   "source": [
    "#### 检索图层字段信息"
   ]
  },
  {
   "cell_type": "code",
   "execution_count": 9,
   "metadata": {
    "scrolled": true
   },
   "outputs": [
    {
     "name": "stdout",
     "output_type": "stream",
     "text": [
      "0 link_id Integer\n",
      "1 segment_id String\n",
      "2 road_id String\n",
      "3 roadname String\n",
      "4 fnode String\n",
      "5 tnode String\n",
      "6 length String\n",
      "7 road_class String\n",
      "8 p_lanes String\n",
      "9 n_lanes String\n",
      "10 max_speed String\n",
      "11 direction String\n",
      "12 ad_code String\n",
      "13 toll_flag String\n",
      "14 status String\n",
      "15 link_type String\n",
      "16 fc String\n",
      "17 u_line String\n",
      "18 over_head String\n",
      "19 ramp String\n",
      "20 mesh String\n",
      "21 forwardroa String\n",
      "22 reverseroa String\n",
      "23 link_flag Integer\n",
      "24 err_flag Integer\n",
      "25 gd_id String\n",
      "26 ge_id String\n",
      "27 gj_id String\n",
      "28 gm_id String\n",
      "29 gjjdd_id String\n",
      "30 gjjzd_id String\n",
      "31 gjj_id String\n",
      "32 zone_id String\n"
     ]
    }
   ],
   "source": [
    "# “layer”是一个QgsVectorLayer实例\n",
    "layer = llayer\n",
    "\n",
    "#可以通过调用QgsVectorLayer对象的fields()方法检索一个矢量图层相关字段的信息\n",
    "n = 0\n",
    "for field in layer.fields():\n",
    "    print(n, field.name(), field.typeName())\n",
    "    n = n+1"
   ]
  },
  {
   "cell_type": "code",
   "execution_count": 10,
   "metadata": {},
   "outputs": [
    {
     "name": "stdout",
     "output_type": "stream",
     "text": [
      "features: 94138\n"
     ]
    }
   ],
   "source": [
    "#查询要素数量\n",
    "print(\"features:\", layer.featureCount())"
   ]
  },
  {
   "cell_type": "markdown",
   "metadata": {},
   "source": [
    "#### 构造director"
   ]
  },
  {
   "cell_type": "code",
   "execution_count": 11,
   "metadata": {},
   "outputs": [],
   "source": [
    "#构造一个director需要传入一个矢量图层，它可以作为图结构和各路段允许移动方向（单行，双行；正向，反向）等信息的数据源\n",
    "#方法的调用长这个样子\n",
    "# director = QgsVectorLayerDirector\n",
    "# (\n",
    "#  vl, #用来创建图的矢量图层\n",
    "#  directionFieldId, #属性表字段编号，其中储存道路方向的信息。如果为-1，则不用这里面的信息。是一个整型。\n",
    "#  directDirectionValue, #道路正方向的字段值（从第一个线段点向最后一个移动）。是一个字符串。\n",
    "#  reverseDirectionValue, #道路反方向的字段值（从最后一个线段点向第一个移动）。是一个字符串。\n",
    "#  bothDirectionValue, #双向道路的字段值（对这种道路能从第一个线段点向最后一个移动，也能从最后一个向第一个移动）。是一个字符串。\n",
    "#  defaultDirection #默认道路方向。这个值用于directionFieldId未设置字段的道路或具有不同于上述三个值中的任何一个值的道路。这个值是一个整型。1表示正方向，2表示反方向，3表示双向。\n",
    "# )"
   ]
  },
  {
   "cell_type": "code",
   "execution_count": 12,
   "metadata": {},
   "outputs": [],
   "source": [
    "#根据路网_utf8构造director\n",
    "director = QgsVectorLayerDirector(layer, 11, '2', '3', '1', 3)\n",
    "\n",
    "#利用QgsDistanceStrategy策略来计算边的特性，它考虑了路线的长度\n",
    "strategy = QgsNetworkDistanceStrategy()\n",
    "\n",
    "#把这个策略传递给director\n",
    "director.addStrategy(strategy)"
   ]
  },
  {
   "cell_type": "markdown",
   "metadata": {},
   "source": [
    "#### 使用builder创建图"
   ]
  },
  {
   "cell_type": "code",
   "execution_count": 13,
   "metadata": {},
   "outputs": [],
   "source": [
    "# QgsGraphBuilder 类构建器需要几个参数：\n",
    "# crs — 使用的坐标参照系统,强制性参数。路网和自行车站点均使用gcj坐标。\n",
    "# otfEnabled — 是否使用动态投影。默认为是（使用动态投影）\n",
    "# topologyTolerance — 拓扑容差。默认值为0.\n",
    "# ellipsoidID — 使用的椭球体。默认为“WGS84”."
   ]
  },
  {
   "cell_type": "code",
   "execution_count": 14,
   "metadata": {},
   "outputs": [],
   "source": [
    "# 只设定坐标参照系统，其他值则为默认。\n",
    "myCRS =  QgsCoordinateReferenceSystem(4326)\n",
    "builder = QgsGraphBuilder(myCRS)"
   ]
  },
  {
   "cell_type": "code",
   "execution_count": 15,
   "metadata": {},
   "outputs": [],
   "source": [
    "#定义将被绑定的点\n",
    "#对每个额外的点将会匹配最近的图顶点或最近的图边\n",
    "#后面一种情况中边会被分割，并且加入一个新的顶点\n",
    "startPoint = QgsPointXY(120.6, 31.3) "
   ]
  },
  {
   "cell_type": "code",
   "execution_count": 16,
   "metadata": {},
   "outputs": [],
   "source": [
    "#构建图，并把点绑定上去\n",
    "#tiedPoints是一个由绑定点的坐标构成的list\n",
    "#构建图需要花费一些时间（由一个图层中要素的数量和要素大小决定）\n",
    "tiedPoints = director.makeGraph(builder, [startPoint])"
   ]
  },
  {
   "cell_type": "code",
   "execution_count": 17,
   "metadata": {},
   "outputs": [],
   "source": [
    "#当构建操作完成后我们就能得到图并用于分析\n",
    "graph = builder.graph()"
   ]
  },
  {
   "cell_type": "code",
   "execution_count": 18,
   "metadata": {},
   "outputs": [
    {
     "name": "stdout",
     "output_type": "stream",
     "text": [
      "251647\n"
     ]
    }
   ],
   "source": [
    "#用下边的代码我们可以获得绑定点的顶点编号。\n",
    "startId = graph.findVertex(tiedPoints[0])\n",
    "print(startId)"
   ]
  },
  {
   "cell_type": "markdown",
   "metadata": {},
   "source": [
    "### 图分析"
   ]
  },
  {
   "cell_type": "markdown",
   "metadata": {},
   "source": [
    "#### Dijkstra算法"
   ]
  },
  {
   "cell_type": "code",
   "execution_count": 19,
   "metadata": {},
   "outputs": [],
   "source": [
    "#网络分析用于寻找两个问题的答案：哪些顶点是相连的，和如何寻找最短路径。要解决这些问题，网络分析库提供Dijkstra算法。\n",
    "\n",
    "#Dijkstra算法寻找从图的其中一个顶点到其他所有顶点的最短路径，和最优化的参数值。结果可以作为最短路径树来呈现。\n",
    "\n",
    "# 最短路径树是有向带权图（或更精确的说是树），其有如下特性：\n",
    "# 只有一个顶点而没有入边——树的根结点\n",
    "# 其他所有顶点都只有一个入边\n",
    "# 如果顶点B可从顶点A到达，那么从A到B是单向可达边并且在此图中是最佳（最短）的\n",
    "\n",
    "#用QgsGraphAnalyzer类的shortestTree和dijkstra方法来获得最短路径树。推荐使用dijkstra方法，因为它更快且在使用内存上更高效。\n",
    "#(tree, cost) = QgsGraphAnalyzer.dijkstra(graph, startId, 0)\n",
    "# 数据源——输入的图\n",
    "# 起始顶点ID——树结点的编号（树的根结点）\n",
    "# 度量值——使用的边属性的编号（从0开始）\n",
    "\n",
    "#dijkstra方法返回两个数组。\n",
    "#第一个数组的元素i存储了入边的编号，或者如果没有入边，则存储为-1。\n",
    "#第二个数组的元素i存储的是从树根结点到顶点i的距离，或如果顶点i不能从根结点到达，则存储为DOUBLE_MAX"
   ]
  },
  {
   "cell_type": "code",
   "execution_count": 20,
   "metadata": {
    "scrolled": true
   },
   "outputs": [],
   "source": [
    "from qgis.analysis import *\n",
    "\n",
    "layer = llayer\n",
    "director = QgsVectorLayerDirector(layer, 11, '2', '3', '1', 3)\n",
    "strategy = QgsNetworkDistanceStrategy()\n",
    "director.addStrategy(strategy)\n",
    "myCRS =  QgsCoordinateReferenceSystem(4326)\n",
    "builder = QgsGraphBuilder(myCRS)\n",
    "\n",
    "pStart = QgsPointXY(120.6, 31.3)\n",
    "tiedPoint = director.makeGraph(builder, [pStart])\n",
    "pStart = tiedPoint[0]\n",
    "\n",
    "graph = builder.graph()\n",
    "\n",
    "idStart = graph.findVertex(pStart)\n",
    "\n",
    "(tree, costs) = QgsGraphAnalyzer.dijkstra(graph, idStart, 0)"
   ]
  },
  {
   "cell_type": "code",
   "execution_count": 21,
   "metadata": {
    "scrolled": false
   },
   "outputs": [
    {
     "name": "stdout",
     "output_type": "stream",
     "text": [
      "251648\n"
     ]
    }
   ],
   "source": [
    "print(len(tree))"
   ]
  },
  {
   "cell_type": "markdown",
   "metadata": {},
   "source": [
    "#### 寻找最短路径"
   ]
  },
  {
   "cell_type": "code",
   "execution_count": 22,
   "metadata": {},
   "outputs": [],
   "source": [
    "#下面是找到两点之间最优路径的方法:\n",
    "#当图被创建时，两个点（起点A和终点B）都绑定在了图上。\n",
    "#然后使用dijkstra()算法，我们创建了根在起始点A的最短路径树。\n",
    "#在同一棵树中我们还找到了终点B，并开始从点B向A逐个结点地访问这棵树。\n",
    "\n",
    "# 整个算法可以写作：\n",
    "# assign Т = B\n",
    "# while Т != A\n",
    "#     add point Т to path\n",
    "#     get incoming edge for point Т\n",
    "#     look for point ТТ, that is start point of this edge\n",
    "#     assign Т = ТТ\n",
    "# add point А to path"
   ]
  },
  {
   "cell_type": "code",
   "execution_count": 92,
   "metadata": {},
   "outputs": [],
   "source": [
    "from qgis.analysis import *\n",
    "\n",
    "layer = llayer\n",
    "director = QgsVectorLayerDirector(layer, 11, '2', '3', '1', 3)\n",
    "strategy = QgsNetworkDistanceStrategy()\n",
    "director.addStrategy(strategy)\n",
    "myCRS =  QgsCoordinateReferenceSystem(4326)\n",
    "builder = QgsGraphBuilder(myCRS)\n",
    "\n",
    "pStart = QgsPointXY(120.6, 31.3)\n",
    "pStop = QgsPointXY(120.53,31.27)\n",
    "\n",
    "tiedPoints = director.makeGraph(builder, [pStart, pStop])\n",
    "graph = builder.graph()\n",
    "\n",
    "tStart = tiedPoints[0]\n",
    "tStop = tiedPoints[1]\n",
    "\n",
    "idStart = graph.findVertex(tStart)\n",
    "idStop = graph.findVertex(tStop)\n",
    "\n",
    "(tree, cost) = QgsGraphAnalyzer.dijkstra(graph, idStart, 0)"
   ]
  },
  {
   "cell_type": "code",
   "execution_count": 94,
   "metadata": {},
   "outputs": [
    {
     "name": "stdout",
     "output_type": "stream",
     "text": [
      "251649\n"
     ]
    }
   ],
   "source": [
    "print(len(tree))"
   ]
  },
  {
   "cell_type": "code",
   "execution_count": 45,
   "metadata": {},
   "outputs": [],
   "source": [
    "if tree[idStop] == -1:\n",
    "  print(\"Path not found\")\n",
    "else:\n",
    "  p = []\n",
    "  curPos = idStop\n",
    "  while curPos != idStart:\n",
    "    p.append(graph.vertex(graph.edge(tree[curPos]).toVertex()).point())\n",
    "    curPos = graph.edge(tree[curPos]).fromVertex();\n",
    "    \n",
    "  p.append(tStart)"
   ]
  },
  {
   "cell_type": "code",
   "execution_count": 60,
   "metadata": {
    "scrolled": true
   },
   "outputs": [
    {
     "name": "stdout",
     "output_type": "stream",
     "text": [
      "227\n"
     ]
    }
   ],
   "source": [
    "print(len(p))"
   ]
  },
  {
   "cell_type": "code",
   "execution_count": 95,
   "metadata": {
    "scrolled": true
   },
   "outputs": [
    {
     "name": "stdout",
     "output_type": "stream",
     "text": [
      "Distance in meters:  7449.193059671591\n"
     ]
    }
   ],
   "source": [
    "#计算两点的直线距离\n",
    "from qgis.core import QgsDistanceArea\n",
    "\n",
    "d = QgsDistanceArea()\n",
    "d.setEllipsoid('WGS84')\n",
    "\n",
    "print(\"Distance in meters: \", d.measureLine(pStart, pStop))"
   ]
  },
  {
   "cell_type": "markdown",
   "metadata": {},
   "source": [
    "#### 保存最短路"
   ]
  },
  {
   "cell_type": "code",
   "execution_count": 62,
   "metadata": {},
   "outputs": [],
   "source": [
    "#导入要用的包\n",
    "from qgis.PyQt.QtCore import QVariant"
   ]
  },
  {
   "cell_type": "code",
   "execution_count": 63,
   "metadata": {},
   "outputs": [
    {
     "data": {
      "text/plain": [
       "True"
      ]
     },
     "execution_count": 63,
     "metadata": {},
     "output_type": "execute_result"
    }
   ],
   "source": [
    "#定义字段\n",
    "fields_new = QgsFields()\n",
    "fields_new.append(QgsField(\"ID\", QVariant.Int))"
   ]
  },
  {
   "cell_type": "code",
   "execution_count": 73,
   "metadata": {},
   "outputs": [],
   "source": [
    "#创建矢量文件\n",
    "path_new = '/Users/xin-yi.song/Desktop/苏州公安-公共自行车/P5：站点选址支持（盲区识别）/最短路.geojson'\n",
    "writer = QgsVectorFileWriter(path_new, \"UTF-8\", fields_new, QgsWkbTypes.LineString, driverName=\"GeoJSON\")\n",
    "\n",
    "if writer.hasError() != QgsVectorFileWriter.NoError:\n",
    "    print(\"Error when creating GeoJSON: \",  w.errorMessage())"
   ]
  },
  {
   "cell_type": "code",
   "execution_count": 74,
   "metadata": {},
   "outputs": [],
   "source": [
    "#将QgsPointXY转换成QgsPoint\n",
    "for i in range(0,len(p)):\n",
    "    p[i] = QgsPoint(p[i])\n",
    "\n",
    "#添加要素\n",
    "fet = QgsFeature()\n",
    "fet.setGeometry(QgsGeometry.fromPolyline(p))\n",
    "fet.setAttributes([1])\n",
    "writer.addFeature(fet)\n",
    "\n",
    "# 删除writer以将要素保存到磁盘\n",
    "del writer"
   ]
  },
  {
   "cell_type": "code",
   "execution_count": 75,
   "metadata": {
    "scrolled": true
   },
   "outputs": [
    {
     "name": "stdout",
     "output_type": "stream",
     "text": [
      "fields: 1\n",
      "features: 1\n",
      "extent: 120.52999153496289 31.262287 120.60016152525336 31.2988996092115\n",
      "F: 0 [1] [<QgsPointXY: POINT(120.52999153496288898 31.26999951489758445)>, <QgsPointXY: POINT(120.53000400000000525 31.2697819999999993)>, <QgsPointXY: POINT(120.53005600000000186 31.26916699999999949)>, <QgsPointXY: POINT(120.53020399999999768 31.26793100000000081)>, <QgsPointXY: POINT(120.53020800000000179 31.26789700000000138)>, <QgsPointXY: POINT(120.53032899999999472 31.26688199999999895)>, <QgsPointXY: POINT(120.53047700000000475 31.26670700000000025)>, <QgsPointXY: POINT(120.53060100000000432 31.26574899999999957)>, <QgsPointXY: POINT(120.53079099999999357 31.26368300000000033)>, <QgsPointXY: POINT(120.53074499999999603 31.26358300000000057)>, <QgsPointXY: POINT(120.53083800000000281 31.2622870000000006)>, <QgsPointXY: POINT(120.53286900000000514 31.26232900000000114)>, <QgsPointXY: POINT(120.5344390000000061 31.26242200000000082)>, <QgsPointXY: POINT(120.53500800000000481 31.26245499999999922)>, <QgsPointXY: POINT(120.53573000000000093 31.26249800000000079)>, <QgsPointXY: POINT(120.53656599999999344 31.2625610000000016)>, <QgsPointXY: POINT(120.53672400000000664 31.26257000000000019)>, <QgsPointXY: POINT(120.53785000000000593 31.26263700000000156)>, <QgsPointXY: POINT(120.53785100000000341 31.26328000000000173)>, <QgsPointXY: POINT(120.53779799999999511 31.26382299999999859)>, <QgsPointXY: POINT(120.53776100000000326 31.26427299999999931)>, <QgsPointXY: POINT(120.5375580000000042 31.26651999999999987)>, <QgsPointXY: POINT(120.53755999999999915 31.26660299999999992)>, <QgsPointXY: POINT(120.53756599999999821 31.26668499999999895)>, <QgsPointXY: POINT(120.53747099999999648 31.26762499999999889)>, <QgsPointXY: POINT(120.53743699999999706 31.26796799999999976)>, <QgsPointXY: POINT(120.53739099999999951 31.26842699999999908)>, <QgsPointXY: POINT(120.53733499999999879 31.26898100000000014)>, <QgsPointXY: POINT(120.5373170000000016 31.26915100000000081)>, <QgsPointXY: POINT(120.5372820000000047 31.26949700000000121)>, <QgsPointXY: POINT(120.53727200000000153 31.26960599999999957)>, <QgsPointXY: POINT(120.53724099999999453 31.26991999999999905)>, <QgsPointXY: POINT(120.5372030000000052 31.27030200000000093)>, <QgsPointXY: POINT(120.53715499999999849 31.27082400000000106)>, <QgsPointXY: POINT(120.53713799999999878 31.27101499999999845)>, <QgsPointXY: POINT(120.53705100000000527 31.27199299999999837)>, <QgsPointXY: POINT(120.53702599999999734 31.27226599999999834)>, <QgsPointXY: POINT(120.53697999999999979 31.27240199999999959)>, <QgsPointXY: POINT(120.53696999999999662 31.27265299999999826)>, <QgsPointXY: POINT(120.53694799999999532 31.27317999999999998)>, <QgsPointXY: POINT(120.53694699999999784 31.27322500000000005)>, <QgsPointXY: POINT(120.53690400000000693 31.27427899999999994)>, <QgsPointXY: POINT(120.53690199999999777 31.27434299999999823)>, <QgsPointXY: POINT(120.5368919999999946 31.2745260000000016)>, <QgsPointXY: POINT(120.53677700000000073 31.27729599999999976)>, <QgsPointXY: POINT(120.53677000000000419 31.27741800000000083)>, <QgsPointXY: POINT(120.53686399999999423 31.27743099999999998)>, <QgsPointXY: POINT(120.53719900000000109 31.27747600000000006)>, <QgsPointXY: POINT(120.53803399999999613 31.27758700000000047)>, <QgsPointXY: POINT(120.53879399999999578 31.27769400000000033)>, <QgsPointXY: POINT(120.53953099999999665 31.27779100000000057)>, <QgsPointXY: POINT(120.53960399999999709 31.27779999999999916)>, <QgsPointXY: POINT(120.54010900000000106 31.27787000000000006)>, <QgsPointXY: POINT(120.54041599999999335 31.27790999999999855)>, <QgsPointXY: POINT(120.54088600000000042 31.27797199999999833)>, <QgsPointXY: POINT(120.54117499999999552 31.27800999999999831)>, <QgsPointXY: POINT(120.54172599999999704 31.27807900000000174)>, <QgsPointXY: POINT(120.54260899999999879 31.27820200000000028)>, <QgsPointXY: POINT(120.54453399999999874 31.27846100000000007)>, <QgsPointXY: POINT(120.54483899999999608 31.27850400000000164)>, <QgsPointXY: POINT(120.54498900000000106 31.27852999999999994)>, <QgsPointXY: POINT(120.54515100000000416 31.27856900000000095)>, <QgsPointXY: POINT(120.54525099999999327 31.27859600000000029)>, <QgsPointXY: POINT(120.54538800000000265 31.2786369999999998)>, <QgsPointXY: POINT(120.54547900000000027 31.27866900000000072)>, <QgsPointXY: POINT(120.54574999999999818 31.27877700000000161)>, <QgsPointXY: POINT(120.54594099999999912 31.27885300000000157)>, <QgsPointXY: POINT(120.54626500000000533 31.27897199999999955)>, <QgsPointXY: POINT(120.54680799999999863 31.27919500000000141)>, <QgsPointXY: POINT(120.54740800000000434 31.27942799999999934)>, <QgsPointXY: POINT(120.54784200000000283 31.27959699999999899)>, <QgsPointXY: POINT(120.54812699999999381 31.27971300000000099)>, <QgsPointXY: POINT(120.54909299999999917 31.28009799999999885)>, <QgsPointXY: POINT(120.55014500000000055 31.28051500000000118)>, <QgsPointXY: POINT(120.55029899999999543 31.28057499999999891)>, <QgsPointXY: POINT(120.55038600000000315 31.28060899999999833)>, <QgsPointXY: POINT(120.55045699999999442 31.28063099999999963)>, <QgsPointXY: POINT(120.55059500000000128 31.28066600000000008)>, <QgsPointXY: POINT(120.55065600000000359 31.28067700000000073)>, <QgsPointXY: POINT(120.55071399999999926 31.2806849999999983)>, <QgsPointXY: POINT(120.55081400000000258 31.28069699999999997)>, <QgsPointXY: POINT(120.55203799999999603 31.28080800000000039)>, <QgsPointXY: POINT(120.552149 31.28081999999999852)>, <QgsPointXY: POINT(120.55226700000000051 31.28083200000000019)>, <QgsPointXY: POINT(120.55264300000000333 31.28086700000000064)>, <QgsPointXY: POINT(120.55501999999999896 31.28108999999999895)>, <QgsPointXY: POINT(120.55519099999999355 31.28110500000000016)>, <QgsPointXY: POINT(120.55528499999999781 31.28111000000000175)>, <QgsPointXY: POINT(120.55551300000000481 31.28112099999999884)>, <QgsPointXY: POINT(120.55592599999999948 31.28112700000000146)>, <QgsPointXY: POINT(120.55692500000000678 31.28111900000000034)>, <QgsPointXY: POINT(120.55822600000000477 31.28111300000000128)>, <QgsPointXY: POINT(120.55918099999999527 31.28110200000000063)>, <QgsPointXY: POINT(120.55966300000000047 31.28111799999999931)>, <QgsPointXY: POINT(120.5597839999999934 31.28112899999999996)>, <QgsPointXY: POINT(120.56042499999999507 31.28121099999999899)>, <QgsPointXY: POINT(120.56083800000000394 31.28127299999999877)>, <QgsPointXY: POINT(120.56095700000000193 31.28129500000000007)>, <QgsPointXY: POINT(120.56125400000000525 31.28135100000000079)>, <QgsPointXY: POINT(120.56197899999999379 31.2814799999999984)>, <QgsPointXY: POINT(120.563083000000006 31.28166399999999925)>, <QgsPointXY: POINT(120.56400999999999613 31.28182500000000132)>, <QgsPointXY: POINT(120.56492500000000234 31.28197199999999967)>, <QgsPointXY: POINT(120.56525700000000256 31.28203200000000095)>, <QgsPointXY: POINT(120.56654199999999832 31.28224799999999917)>, <QgsPointXY: POINT(120.56792799999999488 31.28246700000000047)>, <QgsPointXY: POINT(120.56945000000000334 31.2827370000000009)>, <QgsPointXY: POINT(120.56965499999999736 31.28277100000000033)>, <QgsPointXY: POINT(120.57044500000000653 31.28292000000000073)>, <QgsPointXY: POINT(120.57127499999999998 31.28307399999999916)>, <QgsPointXY: POINT(120.57240199999999675 31.28326099999999954)>, <QgsPointXY: POINT(120.57253599999999949 31.28328399999999831)>, <QgsPointXY: POINT(120.57393899999999576 31.28339700000000079)>, <QgsPointXY: POINT(120.57448200000000327 31.28342800000000068)>, <QgsPointXY: POINT(120.57479700000000378 31.28345399999999898)>, <QgsPointXY: POINT(120.57498499999999808 31.28346499999999963)>, <QgsPointXY: POINT(120.57523500000000638 31.28347000000000122)>, <QgsPointXY: POINT(120.5754179999999991 31.28345399999999898)>, <QgsPointXY: POINT(120.57550899999999672 31.2834380000000003)>, <QgsPointXY: POINT(120.57576699999999903 31.28337099999999893)>, <QgsPointXY: POINT(120.57623800000000358 31.28322700000000012)>, <QgsPointXY: POINT(120.5767189999999971 31.28308000000000177)>, <QgsPointXY: POINT(120.57698399999999594 31.28302000000000049)>, <QgsPointXY: POINT(120.57721300000000042 31.2829890000000006)>, <QgsPointXY: POINT(120.57749200000000656 31.28297500000000042)>, <QgsPointXY: POINT(120.57774899999999718 31.28298300000000154)>, <QgsPointXY: POINT(120.57798699999999315 31.28301099999999835)>, <QgsPointXY: POINT(120.57824700000000462 31.28306399999999954)>, <QgsPointXY: POINT(120.57849000000000217 31.283138000000001)>, <QgsPointXY: POINT(120.5788390000000021 31.28327200000000019)>, <QgsPointXY: POINT(120.57972999999999786 31.28363399999999928)>, <QgsPointXY: POINT(120.58053099999999347 31.28397000000000006)>, <QgsPointXY: POINT(120.58096000000000458 31.28415000000000035)>, <QgsPointXY: POINT(120.58123899999999651 31.2843139999999984)>, <QgsPointXY: POINT(120.58161099999999522 31.28446699999999936)>, <QgsPointXY: POINT(120.58238400000000468 31.2847849999999994)>, <QgsPointXY: POINT(120.58278599999999869 31.28496200000000016)>, <QgsPointXY: POINT(120.58307700000000295 31.28509999999999991)>, <QgsPointXY: POINT(120.58309300000000519 31.2851089999999985)>, <QgsPointXY: POINT(120.58335700000000656 31.28527000000000058)>, <QgsPointXY: POINT(120.58368299999999351 31.28546599999999955)>, <QgsPointXY: POINT(120.58446600000000615 31.28603899999999882)>, <QgsPointXY: POINT(120.58507199999999671 31.2865019999999987)>, <QgsPointXY: POINT(120.58553499999999303 31.28685099999999863)>, <QgsPointXY: POINT(120.58572800000000314 31.28700800000000015)>, <QgsPointXY: POINT(120.5859750000000048 31.28720200000000062)>, <QgsPointXY: POINT(120.58610699999999838 31.28730099999999936)>, <QgsPointXY: POINT(120.58624000000000365 31.28735500000000158)>, <QgsPointXY: POINT(120.586552999999995 31.28762599999999949)>, <QgsPointXY: POINT(120.58737399999999695 31.2883640000000014)>, <QgsPointXY: POINT(120.58771199999999624 31.28867500000000135)>, <QgsPointXY: POINT(120.58786899999999775 31.28881700000000166)>, <QgsPointXY: POINT(120.58802099999999768 31.28895500000000141)>, <QgsPointXY: POINT(120.58819499999999891 31.2891130000000004)>, <QgsPointXY: POINT(120.588444999999993 31.28934500000000085)>, <QgsPointXY: POINT(120.58872599999999409 31.28959599999999952)>, <QgsPointXY: POINT(120.58904599999999618 31.28988000000000014)>, <QgsPointXY: POINT(120.58925700000000347 31.2900589999999994)>, <QgsPointXY: POINT(120.58937199999999734 31.29014499999999899)>, <QgsPointXY: POINT(120.58946400000000665 31.29020300000000177)>, <QgsPointXY: POINT(120.58951500000000578 31.29023400000000166)>, <QgsPointXY: POINT(120.58959699999999771 31.29030099999999948)>, <QgsPointXY: POINT(120.58972500000000139 31.29038500000000056)>, <QgsPointXY: POINT(120.58985500000000002 31.29045699999999997)>, <QgsPointXY: POINT(120.59010299999999916 31.29058500000000009)>, <QgsPointXY: POINT(120.59025400000000161 31.290655000000001)>, <QgsPointXY: POINT(120.59045500000000573 31.29073400000000049)>, <QgsPointXY: POINT(120.59064100000000508 31.29079600000000028)>, <QgsPointXY: POINT(120.59079499999999996 31.29084100000000035)>, <QgsPointXY: POINT(120.59094500000000494 31.29088199999999986)>, <QgsPointXY: POINT(120.59124599999999816 31.29095600000000132)>, <QgsPointXY: POINT(120.59151300000000617 31.29101800000000111)>, <QgsPointXY: POINT(120.59185800000000199 31.29109800000000163)>, <QgsPointXY: POINT(120.59221399999999846 31.29119400000000084)>, <QgsPointXY: POINT(120.59247899999999731 31.29126000000000118)>, <QgsPointXY: POINT(120.5932549999999992 31.29143300000000139)>, <QgsPointXY: POINT(120.59339900000000512 31.29145700000000119)>, <QgsPointXY: POINT(120.59350799999999992 31.29146499999999875)>, <QgsPointXY: POINT(120.59356699999999307 31.29146400000000128)>, <QgsPointXY: POINT(120.59350999999999487 31.29158400000000029)>, <QgsPointXY: POINT(120.59330199999999422 31.29200499999999963)>, <QgsPointXY: POINT(120.59309799999999768 31.2924199999999999)>, <QgsPointXY: POINT(120.59304299999999444 31.29253599999999835)>, <QgsPointXY: POINT(120.59298599999999624 31.29265699999999839)>, <QgsPointXY: POINT(120.5929349999999971 31.29278599999999955)>, <QgsPointXY: POINT(120.59288399999999797 31.29292500000000032)>, <QgsPointXY: POINT(120.59284900000000107 31.29303000000000168)>, <QgsPointXY: POINT(120.59281900000000576 31.29312200000000033)>, <QgsPointXY: POINT(120.59278999999999371 31.29320900000000094)>, <QgsPointXY: POINT(120.59274000000000626 31.29336800000000096)>, <QgsPointXY: POINT(120.59272300000000655 31.2934340000000013)>, <QgsPointXY: POINT(120.59268600000000049 31.29365200000000158)>, <QgsPointXY: POINT(120.59260500000000604 31.29413100000000014)>, <QgsPointXY: POINT(120.59254500000000121 31.29463799999999907)>, <QgsPointXY: POINT(120.59250299999999356 31.29494199999999893)>, <QgsPointXY: POINT(120.59244200000000546 31.29535200000000117)>, <QgsPointXY: POINT(120.59238799999999969 31.29568199999999933)>, <QgsPointXY: POINT(120.59230700000000525 31.29584099999999935)>, <QgsPointXY: POINT(120.5922779999999932 31.29599899999999835)>, <QgsPointXY: POINT(120.59222900000000323 31.29632099999999895)>, <QgsPointXY: POINT(120.59216899999999839 31.29669000000000167)>, <QgsPointXY: POINT(120.59212700000000495 31.29695299999999847)>, <QgsPointXY: POINT(120.59208800000000394 31.29724699999999871)>, <QgsPointXY: POINT(120.59206100000000106 31.29746000000000095)>, <QgsPointXY: POINT(120.59204099999999471 31.29774700000000109)>, <QgsPointXY: POINT(120.59199300000000221 31.29798999999999864)>, <QgsPointXY: POINT(120.59226099999999349 31.29802199999999957)>, <QgsPointXY: POINT(120.59257700000000568 31.29805100000000095)>, <QgsPointXY: POINT(120.59382800000000202 31.29820300000000088)>, <QgsPointXY: POINT(120.59407500000000368 31.29823299999999975)>, <QgsPointXY: POINT(120.59462299999999857 31.29829700000000159)>, <QgsPointXY: POINT(120.59487000000000023 31.29831899999999933)>, <QgsPointXY: POINT(120.59506600000000276 31.29827999999999832)>, <QgsPointXY: POINT(120.59581900000000587 31.29836999999999847)>, <QgsPointXY: POINT(120.59600799999999765 31.29839399999999827)>, <QgsPointXY: POINT(120.59624399999999866 31.29842400000000069)>, <QgsPointXY: POINT(120.59668499999999369 31.29847699999999833)>, <QgsPointXY: POINT(120.59717600000000459 31.29853500000000111)>, <QgsPointXY: POINT(120.5975040000000007 31.29857200000000006)>, <QgsPointXY: POINT(120.5981830000000059 31.29865699999999862)>, <QgsPointXY: POINT(120.59859000000000151 31.29870400000000075)>, <QgsPointXY: POINT(120.59899699999999712 31.29875099999999932)>, <QgsPointXY: POINT(120.5993090000000052 31.29879299999999986)>, <QgsPointXY: POINT(120.5996329999999972 31.29883200000000087)>, <QgsPointXY: POINT(120.59988400000000297 31.29886099999999871)>, <QgsPointXY: POINT(120.6000619999999941 31.29888499999999851)>, <QgsPointXY: POINT(120.60016152525335542 31.2988996092114995)>]\n"
     ]
    }
   ],
   "source": [
    "# 显示一些统计\n",
    "vl = QgsVectorLayer(path_new, '最短路', 'ogr')\n",
    "pr = vl.dataProvider()\n",
    "\n",
    "print(\"fields:\", len(pr.fields()))\n",
    "print(\"features:\", pr.featureCount())\n",
    "e = vl.extent()\n",
    "print(\"extent:\", e.xMinimum(), e.yMinimum(), e.xMaximum(), e.yMaximum())\n",
    "\n",
    "# 遍历要素\n",
    "features = vl.getFeatures()\n",
    "for fet in features:\n",
    "    print(\"F:\", fet.id(), fet.attributes(), fet.geometry().asPolyline())"
   ]
  },
  {
   "cell_type": "markdown",
   "metadata": {},
   "source": [
    "#### 可达区域"
   ]
  },
  {
   "cell_type": "code",
   "execution_count": 105,
   "metadata": {},
   "outputs": [],
   "source": [
    "from qgis.analysis import *\n",
    "\n",
    "layer = llayer\n",
    "director = QgsVectorLayerDirector(layer, 11, '2', '3', '1', 3)\n",
    "strategy = QgsNetworkDistanceStrategy()\n",
    "director.addStrategy(strategy)\n",
    "myCRS =  QgsCoordinateReferenceSystem(\"EPSG:4326\")\n",
    "builder = QgsGraphBuilder(myCRS)\n",
    "\n",
    "pStart = QgsPointXY(120.56646, 31.28188)\n",
    "\n",
    "tiedPoints = director.makeGraph(builder, [pStart])\n",
    "tStart = tiedPoints[0]\n",
    "\n",
    "graph = builder.graph()\n",
    "idStart = graph.findVertex(tStart)\n",
    "\n",
    "(tree, cost) = QgsGraphAnalyzer.dijkstra(graph, idStart, 0)"
   ]
  },
  {
   "cell_type": "code",
   "execution_count": 106,
   "metadata": {
    "scrolled": true
   },
   "outputs": [
    {
     "name": "stdout",
     "output_type": "stream",
     "text": [
      "251648\n",
      "[149.11324939707936, 159.01418614000102, 189.98847879158424, 165.90749009361232, 181.006711330923, 28.193943639993787, 57.42985004211654, 91.19728783344951, 144.87101064138955, 0.0]\n"
     ]
    }
   ],
   "source": [
    "print(len(cost))\n",
    "print([x for x in cost if x<200])"
   ]
  },
  {
   "cell_type": "code",
   "execution_count": 110,
   "metadata": {},
   "outputs": [
    {
     "name": "stdout",
     "output_type": "stream",
     "text": [
      "[14151, 148914, 164899, 171583]\n",
      "[<QgsPointXY: POINT(120.5685579999999959 31.28248699999999971)>, <QgsPointXY: POINT(120.56774099999999805 31.28313899999999848)>, <QgsPointXY: POINT(120.56654199999999832 31.28224799999999917)>, <QgsPointXY: POINT(120.56838199999999972 31.28082699999999861)>]\n"
     ]
    }
   ],
   "source": [
    "upperBound = []\n",
    "upperBound_Points = []\n",
    "\n",
    "r = 200\n",
    "i = 0\n",
    "while i < len(cost):\n",
    "  if cost[i] >= r and tree[i] != -1:\n",
    "    fromVertexId = graph.edge(tree[i]).fromVertex()\n",
    "    toVertex = graph.vertex(graph.edge(tree[i]).toVertex()).point()\n",
    "    \n",
    "    if cost[fromVertexId] <= r:\n",
    "      upperBound.append(i) \n",
    "      upperBound_Points.append(toVertex)\n",
    "      \n",
    "  i = i + 1\n",
    "\n",
    "print(upperBound)\n",
    "print(upperBound_Points)"
   ]
  },
  {
   "cell_type": "markdown",
   "metadata": {},
   "source": [
    "#### 保存可达区域"
   ]
  },
  {
   "cell_type": "code",
   "execution_count": 124,
   "metadata": {},
   "outputs": [],
   "source": [
    "#导入要用的包\n",
    "from qgis.PyQt.QtCore import QVariant"
   ]
  },
  {
   "cell_type": "code",
   "execution_count": 125,
   "metadata": {},
   "outputs": [
    {
     "data": {
      "text/plain": [
       "True"
      ]
     },
     "execution_count": 125,
     "metadata": {},
     "output_type": "execute_result"
    }
   ],
   "source": [
    "#定义字段\n",
    "fields_new = QgsFields()\n",
    "fields_new.append(QgsField(\"ID\", QVariant.Int))"
   ]
  },
  {
   "cell_type": "code",
   "execution_count": 126,
   "metadata": {},
   "outputs": [],
   "source": [
    "#创建矢量文件\n",
    "path_new = '/Users/xin-yi.song/Desktop/苏州公安-公共自行车/P5：站点选址支持（盲区识别）/可达区域.geojson'\n",
    "writer = QgsVectorFileWriter(path_new, \"UTF-8\", fields_new, QgsWkbTypes.Polygon, driverName=\"GeoJSON\")\n",
    "\n",
    "if writer.hasError() != QgsVectorFileWriter.NoError:\n",
    "    print(\"Error when creating GeoJSON: \",  w.errorMessage())"
   ]
  },
  {
   "cell_type": "code",
   "execution_count": 129,
   "metadata": {},
   "outputs": [],
   "source": [
    "#添加要素\n",
    "fet = QgsFeature()\n",
    "fet.setGeometry(QgsGeometry.fromPolygonXY([upperBound_Points]))\n",
    "fet.setAttributes([1])\n",
    "writer.addFeature(fet)\n",
    "\n",
    "# 删除writer以将要素保存到磁盘\n",
    "del writer"
   ]
  },
  {
   "cell_type": "code",
   "execution_count": 130,
   "metadata": {},
   "outputs": [
    {
     "name": "stdout",
     "output_type": "stream",
     "text": [
      "fields: 1\n",
      "features: 1\n",
      "extent: 120.566542 31.280827 120.568558 31.283139\n",
      "F: 0 [1] [[<QgsPointXY: POINT(120.5685579999999959 31.28248699999999971)>, <QgsPointXY: POINT(120.56774099999999805 31.28313899999999848)>, <QgsPointXY: POINT(120.56654199999999832 31.28224799999999917)>, <QgsPointXY: POINT(120.56838199999999972 31.28082699999999861)>, <QgsPointXY: POINT(120.5685579999999959 31.28248699999999971)>]]\n"
     ]
    }
   ],
   "source": [
    "# 显示一些统计\n",
    "vl = QgsVectorLayer(path_new, '可达区域', 'ogr')\n",
    "pr = vl.dataProvider()\n",
    "\n",
    "print(\"fields:\", len(pr.fields()))\n",
    "print(\"features:\", pr.featureCount())\n",
    "e = vl.extent()\n",
    "print(\"extent:\", e.xMinimum(), e.yMinimum(), e.xMaximum(), e.yMaximum())\n",
    "\n",
    "# 遍历要素\n",
    "features = vl.getFeatures()\n",
    "for fet in features:\n",
    "    print(\"F:\", fet.id(), fet.attributes(), fet.geometry().asPolygon())"
   ]
  }
 ],
 "metadata": {
  "kernelspec": {
   "display_name": "Python 3",
   "language": "python",
   "name": "python3"
  },
  "language_info": {
   "codemirror_mode": {
    "name": "ipython",
    "version": 3
   },
   "file_extension": ".py",
   "mimetype": "text/x-python",
   "name": "python",
   "nbconvert_exporter": "python",
   "pygments_lexer": "ipython3",
   "version": "3.7.6"
  },
  "toc": {
   "base_numbering": 1,
   "nav_menu": {},
   "number_sections": true,
   "sideBar": true,
   "skip_h1_title": false,
   "title_cell": "Table of Contents",
   "title_sidebar": "Contents",
   "toc_cell": false,
   "toc_position": {},
   "toc_section_display": true,
   "toc_window_display": false
  },
  "varInspector": {
   "cols": {
    "lenName": 16,
    "lenType": 16,
    "lenVar": 40
   },
   "kernels_config": {
    "python": {
     "delete_cmd_postfix": "",
     "delete_cmd_prefix": "del ",
     "library": "var_list.py",
     "varRefreshCmd": "print(var_dic_list())"
    },
    "r": {
     "delete_cmd_postfix": ") ",
     "delete_cmd_prefix": "rm(",
     "library": "var_list.r",
     "varRefreshCmd": "cat(var_dic_list()) "
    }
   },
   "types_to_exclude": [
    "module",
    "function",
    "builtin_function_or_method",
    "instance",
    "_Feature"
   ],
   "window_display": false
  }
 },
 "nbformat": 4,
 "nbformat_minor": 4
}
